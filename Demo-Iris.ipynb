{
 "cells": [
  {
   "cell_type": "markdown",
   "metadata": {},
   "source": [
    "# Hyperopt-Sklearn on Iris\n",
    "\n",
    "`Iris` is a small data set of 150 examples of flower attributes and types of Iris.\n",
    "\n",
    "The small size of Iris means that hyperparameter optimization takes just a few seconds.\n",
    "On the other hand, Iris is so *easy* that we'll typically see numerous near-perfect models within the first few random guesses; hyperparameter optimization algorithms are hardly necessary at all.\n",
    "\n",
    "Nevertheless, here is how to use hyperopt-sklearn (`hpsklearn`) to find a good model of the Iris data set. The code walk-through is given in 5 steps:\n",
    "\n",
    "  1. module imports\n",
    "  2. data preparation into training and testing sets for a single fold of cross-validation.\n",
    "  3. creation of a hpsklearn `HyperoptEstimator`\n",
    "  4. a somewhat spelled-out version of `HyperoptEstimator.fit`\n",
    "  5. inspecting and testing the best model"
   ]
  },
  {
   "cell_type": "code",
   "execution_count": 1,
   "metadata": {},
   "outputs": [
    {
     "name": "stdout",
     "output_type": "stream",
     "text": [
      "WARN: OMP_NUM_THREADS=None =>\n",
      "... If you are using openblas if you are using openblas set OMP_NUM_THREADS=1 or risk subprocess calls hanging indefinitely\n"
     ]
    }
   ],
   "source": [
    "# IMPORTS\n",
    "from sklearn.model_selection import train_test_split\n",
    "from sklearn.datasets import load_iris\n",
    "import hpsklearn\n",
    "import hpsklearn.demo_support\n",
    "import hyperopt.tpe\n",
    "import pandas as pd\n",
    "import numpy as np"
   ]
  },
  {
   "cell_type": "code",
   "execution_count": 2,
   "metadata": {},
   "outputs": [],
   "source": [
    "# PREPARE TRAINING AND TEST DATA\n",
    "iris = load_iris()\n",
    "df_iris = pd.DataFrame(iris.data, columns=iris.feature_names)\n",
    "df_iris['species_name'] = pd.Categorical.from_codes(iris.target, iris.target_names)\n",
    "y = df_iris['species_name']\n",
    "X = df_iris.drop(['species_name'], axis=1)\n",
    "\n",
    "# TRAIN AND TEST DATA\n",
    "X_train, X_test, y_train, y_test = train_test_split(X, y, test_size=0.3)"
   ]
  },
  {
   "cell_type": "code",
   "execution_count": 3,
   "metadata": {},
   "outputs": [],
   "source": [
    "estimator = hpsklearn.HyperoptEstimator(\n",
    "    preprocessing=hpsklearn.components.any_preprocessing('pp'),\n",
    "    classifier=hpsklearn.components.any_classifier('clf'),\n",
    "    algo=hyperopt.tpe.suggest,\n",
    "    trial_timeout=15.0, # seconds\n",
    "    max_evals=15,\n",
    "    )"
   ]
  },
  {
   "cell_type": "code",
   "execution_count": 4,
   "metadata": {},
   "outputs": [
    {
     "data": {
      "image/png": "[encoded data removed]",
      "text/plain": [
       "<Figure size 432x288 with 2 Axes>"
      ]
     },
     "metadata": {
      "needs_background": "light"
     },
     "output_type": "display_data"
    }
   ],
   "source": [
    "# Demo version of estimator.fit()\n",
    "fit_iterator = estimator.fit_iter(X_train,y_train)\n",
    "fit_iterator.__next__()\n",
    "plot_helper = hpsklearn.demo_support.PlotHelper(estimator,\n",
    "                                                mintodate_ylim=(-.01, .10))\n",
    "while len(estimator.trials.trials) < estimator.max_evals:\n",
    "    fit_iterator.send(1) # -- try one more model\n",
    "    plot_helper.post_iter()\n",
    "plot_helper.post_loop()\n",
    "\n",
    "# -- Model selection was done on a subset of the training data.\n",
    "# -- Now that we've picked a model, train on all training data.\n",
    "estimator.retrain_best_model_on_full_data(X_train, y_train)"
   ]
  },
  {
   "cell_type": "code",
   "execution_count": 5,
   "metadata": {},
   "outputs": [
    {
     "name": "stdout",
     "output_type": "stream",
     "text": [
      "Best preprocessing pipeline:\n",
      "MinMaxScaler(feature_range=(-1.0, 1.0))\n",
      "\n",
      "\n",
      "Best classifier:\n",
      " ExtraTreesClassifier(bootstrap=True, criterion='entropy', max_depth=4,\n",
      "                     max_features=0.8268757752512261, min_samples_leaf=7,\n",
      "                     n_estimators=27, n_jobs=1, random_state=2, verbose=False)\n",
      "\n",
      "\n",
      "Prediction accuracy in generalization is 97.8%\n"
     ]
    }
   ],
   "source": [
    "print('Best preprocessing pipeline:')\n",
    "for pp in estimator._best_preprocs:\n",
    "    print(pp)\n",
    "print('\\n')\n",
    "print('Best classifier:\\n', estimator._best_learner)\n",
    "test_predictions = estimator.predict(X_test)\n",
    "acc_in_percent = 100 * np.mean(test_predictions == y_test)\n",
    "print('\\n')\n",
    "print('Prediction accuracy in generalization is %.1f%%' % acc_in_percent)"
   ]
  }
 ],
 "metadata": {
  "kernelspec": {
   "display_name": "Python 3 (ipykernel)",
   "language": "python",
   "name": "python3"
  },
  "language_info": {
   "codemirror_mode": {
    "name": "ipython",
    "version": 3
   },
   "file_extension": ".py",
   "mimetype": "text/x-python",
   "name": "python",
   "nbconvert_exporter": "python",
   "pygments_lexer": "ipython3",
   "version": "3.7.11"
  }
 },
 "nbformat": 4,
 "nbformat_minor": 1
}
